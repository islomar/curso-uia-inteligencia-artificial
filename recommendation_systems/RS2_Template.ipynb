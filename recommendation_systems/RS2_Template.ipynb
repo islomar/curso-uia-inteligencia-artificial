{
  "nbformat": 4,
  "nbformat_minor": 0,
  "metadata": {
    "colab": {
      "name": "RS2_Template.ipynb",
      "provenance": [],
      "collapsed_sections": []
    },
    "kernelspec": {
      "name": "python3",
      "display_name": "Python 3"
    },
    "language_info": {
      "name": "python"
    },
    "accelerator": "GPU",
    "gpuClass": "standard"
  },
  "cells": [
    {
      "cell_type": "code",
      "execution_count": null,
      "metadata": {
        "id": "dDPmefijJ1VW"
      },
      "outputs": [],
      "source": [
        "#https://grouplens.org/datasets/movielens/\n",
        "!wget https://files.grouplens.org/datasets/movielens/ml-latest.zip\n",
        "!unzip  ml-latest.zip\n",
        "!pip install pqdm"
      ]
    },
    {
      "cell_type": "code",
      "source": [
        "import pandas as pd\n",
        "import os\n",
        "import numpy as np\n",
        "from tqdm import tqdm\n",
        "from pqdm.processes import pqdm\n",
        "import torch\n",
        "from torch import nn\n",
        "from torch.utils.data import Dataset, DataLoader\n"
      ],
      "metadata": {
        "id": "uEeOHCG3MhLs"
      },
      "execution_count": null,
      "outputs": []
    },
    {
      "cell_type": "code",
      "source": [
        "csv_path = \"ml-latest\"\n",
        "movies = pd.read_csv(os.path.join(csv_path, \"movies.csv\"))\n",
        "ratings = pd.read_csv(os.path.join(csv_path, \"ratings.csv\"))"
      ],
      "metadata": {
        "id": "QxEW5hScND1l"
      },
      "execution_count": null,
      "outputs": []
    },
    {
      "cell_type": "code",
      "source": [
        "movies.info(), ratings.info(), ratings['userId'].nunique(), ratings['movieId'].nunique()"
      ],
      "metadata": {
        "id": "z9qSYVdQdBFq"
      },
      "execution_count": null,
      "outputs": []
    },
    {
      "cell_type": "code",
      "source": [
        "p_selection = 0.10\n",
        "users = np.random.choice(ratings['userId'].unique(), size=int(ratings['userId'].nunique() * p_selection))\n",
        "ratings = ratings[ratings['userId'].isin(users)]\n",
        "ratings['userId'].nunique(), ratings['movieId'].nunique(), ratings.shape"
      ],
      "metadata": {
        "id": "loUcfyjS5WjO"
      },
      "execution_count": null,
      "outputs": []
    },
    {
      "cell_type": "code",
      "source": [
        "#Reasignar valores ID. Util para tamaño embedding\n",
        "ratings['uId'] = ratings.groupby('userId').ngroup()\n",
        "ratings['mId'] = ratings.groupby('movieId').ngroup()"
      ],
      "metadata": {
        "id": "pxZEUxlWVCqQ"
      },
      "execution_count": null,
      "outputs": []
    },
    {
      "cell_type": "code",
      "source": [
        "ratings = ratings.drop_duplicates(subset=['uId', 'mId'], keep='first') #Posibilidad de varias reviews\n",
        "ratings.shape"
      ],
      "metadata": {
        "id": "2v6hVfNXml_O"
      },
      "execution_count": null,
      "outputs": []
    },
    {
      "cell_type": "markdown",
      "source": [
        "## Neural Collaborative Filter"
      ],
      "metadata": {
        "id": "-hWjFCf9FwlU"
      }
    },
    {
      "cell_type": "markdown",
      "source": [
        "![image.png](data:image/png;base64,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)"
      ],
      "metadata": {
        "id": "5nEXDexj-AvP"
      }
    },
    {
      "cell_type": "markdown",
      "source": [
        "Ordenamos los valores por fecha de obtención. Por cada usuario, dejamos todos los valores para train menos el más reciente que se usará para test."
      ],
      "metadata": {
        "id": "xJSTsvY2E_D5"
      }
    },
    {
      "cell_type": "code",
      "source": [
        ""
      ],
      "metadata": {
        "id": "GCInoDX9SIaF"
      },
      "execution_count": null,
      "outputs": []
    },
    {
      "cell_type": "markdown",
      "source": [
        "Hacemos el paso de transformar a implícito."
      ],
      "metadata": {
        "id": "Hh_HUKirFNre"
      }
    },
    {
      "cell_type": "code",
      "source": [
        ""
      ],
      "metadata": {
        "id": "Q9xhXUVbiYjL"
      },
      "execution_count": null,
      "outputs": []
    },
    {
      "cell_type": "markdown",
      "source": [
        "Para trabajar con datos implícitos tenemos que crear valores negativos. En este caso creamos 4 valores por cada 1. 4:1 rating."
      ],
      "metadata": {
        "id": "UGfrG-JpFTn4"
      }
    },
    {
      "cell_type": "code",
      "source": [
        "num_of_negatives = 3\n",
        "moviesIds = ratings['mId'].unique()\n",
        "\n",
        "def create_negatives(userId):\n",
        "  user_df = train_ratings[train_ratings['uId'] == userId]\n",
        "  user_movies = user_df['mId'].values\n",
        "  m = moviesIds[~np.isin(moviesIds, user_movies)]\n",
        "  movies = np.random.choice(m, size=num_of_negatives * user_df.shape[0])\n",
        "  neg_df = pd.DataFrame({'mId': movies})\n",
        "  neg_df['uId'] = userId\n",
        "  neg_df['rating'] = 0\n",
        "  return pd.concat([user_df, neg_df])\n",
        "\n",
        "results =  pqdm(range(train_ratings['uId'].nunique()), create_negatives, n_jobs=2)\n"
      ],
      "metadata": {
        "id": "KAupF1NvuW-8"
      },
      "execution_count": null,
      "outputs": []
    },
    {
      "cell_type": "code",
      "source": [
        "train_ds = pd.concat(results).drop_duplicates(subset=['uId', 'mId', 'rating'], keep='first').values"
      ],
      "metadata": {
        "id": "BLPUzmiwUyxt"
      },
      "execution_count": null,
      "outputs": []
    },
    {
      "cell_type": "code",
      "source": [
        "class TrainDataset(Dataset):\n",
        "\n",
        "  "
      ],
      "metadata": {
        "id": "nDc7FIa4WR9L"
      },
      "execution_count": null,
      "outputs": []
    },
    {
      "cell_type": "markdown",
      "source": [
        "Creamos nuestro modelo"
      ],
      "metadata": {
        "id": "JNjHtZ3NFbKa"
      }
    },
    {
      "cell_type": "code",
      "source": [
        "class NCF(nn.Module):\n",
        "\n",
        "\n",
        "      "
      ],
      "metadata": {
        "id": "yLBZjiLnTk85"
      },
      "execution_count": null,
      "outputs": []
    },
    {
      "cell_type": "code",
      "source": [
        ""
      ],
      "metadata": {
        "id": "vmCdtEYIUFyP"
      },
      "execution_count": null,
      "outputs": []
    },
    {
      "cell_type": "code",
      "source": [
        ""
      ],
      "metadata": {
        "id": "SmaV7WUuVHgv"
      },
      "execution_count": null,
      "outputs": []
    },
    {
      "cell_type": "code",
      "source": [
        ""
      ],
      "metadata": {
        "id": "sAvyFQWhY6qv"
      },
      "execution_count": null,
      "outputs": []
    },
    {
      "cell_type": "code",
      "source": [
        "h_loss = []\n",
        "for epoch in range(5):\n",
        "  bar = tqdm(train_loader)\n",
        "  bar.set_description(\"Loss: 0.0\")\n",
        "  for batch in bar:  \n",
        "    user_b, movie_b, rating_b = batch.T.to(device)\n",
        "    optimizer.zero_grad()\n",
        "    out = model(user_b, movie_b)\n",
        "    loss = lossf(out.squeeze(1), rating_b.float())\n",
        "    loss.backward()\n",
        "    optimizer.step()\n",
        "    h_loss.append(loss.item())\n",
        "    bar.set_description(f\"Loss: {np.mean(h_loss[-50:]):.3f}\")\n",
        "  \n"
      ],
      "metadata": {
        "id": "xtHfvzDcZrp6"
      },
      "execution_count": null,
      "outputs": []
    },
    {
      "cell_type": "code",
      "source": [
        "#Hit Ratio @ 10\n",
        "moviesIds = set(moviesIds)\n",
        "hits = []\n",
        "\n",
        "for userId in range(test_ratings['uId'].nunique()):\n",
        "  user_test_movie = test_ratings[test_ratings['uId'] == userId]['mId'].iloc[0]\n",
        "  user_interacted_movies = set(ratings[ratings['uId'] == userId]['mId'])\n",
        "  user_not_interacted_movies = list(moviesIds - user_interacted_movies)\n",
        "  random_movies = np.random.choice(user_not_interacted_movies, size=99, replace=False)\n",
        "  random_movies = np.append(random_movies,user_test_movie)\n",
        "  with torch.no_grad():\n",
        "    out = model(\n",
        "        torch.tensor([userId] * 100).to(device),\n",
        "        torch.from_numpy(random_movies).to(device)\n",
        "        )\n",
        "    out = torch.sigmoid(out).squeeze().cpu().numpy()\n",
        "    top10 = [random_movies[i] for i in np.argsort(out)[::-1][0:10].tolist()]\n",
        "    if user_test_movie in top10:\n",
        "      hits.append(1)\n",
        "    else:\n",
        "      hits.append(0)"
      ],
      "metadata": {
        "id": "Gpz1MkHNo9Q7"
      },
      "execution_count": null,
      "outputs": []
    },
    {
      "cell_type": "code",
      "source": [
        "print(\"The Hit Ratio @ 10 is {:.2f}\".format(np.mean(hits)))"
      ],
      "metadata": {
        "id": "Wbq-zyr3ps18"
      },
      "execution_count": null,
      "outputs": []
    }
  ]
}