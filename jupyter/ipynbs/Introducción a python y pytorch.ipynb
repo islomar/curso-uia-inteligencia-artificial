{
 "cells": [
  {
   "cell_type": "markdown",
   "metadata": {
    "id": "HsubxR_M0Z95"
   },
   "source": [
    "# Introducción a Python\n",
    "Python es un lenguaje de programación. Sirve para dar instrucciones a un ordenador. Un curso de introducción a python nos llevaría varias horas, pero vamos a intentar sintetizar los conocimientos básicos aquí. En primer lugar, podemos hacer operaciones: "
   ]
  },
  {
   "cell_type": "code",
   "execution_count": 1,
   "metadata": {
    "colab": {
     "base_uri": "https://localhost:8080/"
    },
    "executionInfo": {
     "elapsed": 269,
     "status": "ok",
     "timestamp": 1660639519617,
     "user": {
      "displayName": "Francisco Jesús Martínez Murcia",
      "userId": "13684743367188921611"
     },
     "user_tz": -120
    },
    "id": "0VznAh8h0Z99",
    "outputId": "685820de-af89-482c-be5f-3235056520b9"
   },
   "outputs": [
    {
     "data": {
      "text/plain": [
       "5"
      ]
     },
     "execution_count": 1,
     "metadata": {},
     "output_type": "execute_result"
    }
   ],
   "source": [
    "3+2"
   ]
  },
  {
   "cell_type": "markdown",
   "metadata": {
    "id": "x3rT458z0Z99"
   },
   "source": [
    "También podemos utilizar variables:"
   ]
  },
  {
   "cell_type": "code",
   "execution_count": 2,
   "metadata": {
    "colab": {
     "base_uri": "https://localhost:8080/"
    },
    "executionInfo": {
     "elapsed": 4,
     "status": "ok",
     "timestamp": 1660639549581,
     "user": {
      "displayName": "Francisco Jesús Martínez Murcia",
      "userId": "13684743367188921611"
     },
     "user_tz": -120
    },
    "id": "E3u4H7vT0Z9-",
    "outputId": "0c11004a-3351-429a-b8c2-eabe3ef15dd3"
   },
   "outputs": [
    {
     "data": {
      "text/plain": [
       "5"
      ]
     },
     "execution_count": 2,
     "metadata": {},
     "output_type": "execute_result"
    }
   ],
   "source": [
    "var1 = 3\n",
    "var2 = 2\n",
    "var1+var2"
   ]
  },
  {
   "cell_type": "markdown",
   "metadata": {
    "id": "dQAoLoE70Z9-"
   },
   "source": [
    "que se mantienen en el tiempo:"
   ]
  },
  {
   "cell_type": "code",
   "execution_count": 5,
   "metadata": {
    "colab": {
     "base_uri": "https://localhost:8080/"
    },
    "executionInfo": {
     "elapsed": 4,
     "status": "ok",
     "timestamp": 1660639618187,
     "user": {
      "displayName": "Francisco Jesús Martínez Murcia",
      "userId": "13684743367188921611"
     },
     "user_tz": -120
    },
    "id": "iKnsYrVj0Z9_",
    "outputId": "78c2548e-294b-4c2d-d6db-124b443977bb"
   },
   "outputs": [
    {
     "name": "stdout",
     "output_type": "stream",
     "text": [
      "4\n"
     ]
    }
   ],
   "source": [
    "var1=2\n",
    "print(var1+var2)"
   ]
  },
  {
   "cell_type": "markdown",
   "metadata": {
    "id": "nQ0RC6cb0Z9_"
   },
   "source": [
    "Y que podemos almacenar y mostrar por pantalla: "
   ]
  },
  {
   "cell_type": "code",
   "execution_count": 10,
   "metadata": {
    "colab": {
     "base_uri": "https://localhost:8080/"
    },
    "executionInfo": {
     "elapsed": 225,
     "status": "ok",
     "timestamp": 1660639684819,
     "user": {
      "displayName": "Francisco Jesús Martínez Murcia",
      "userId": "13684743367188921611"
     },
     "user_tz": -120
    },
    "id": "4xdw_hMM0Z-A",
    "outputId": "08c297e2-628b-4b30-cc33-9a60d9d22bd1"
   },
   "outputs": [
    {
     "name": "stdout",
     "output_type": "stream",
     "text": [
      "4\n"
     ]
    }
   ],
   "source": [
    "var3 = var1 + var2 \n",
    "print(var3)"
   ]
  },
  {
   "cell_type": "markdown",
   "metadata": {
    "id": "y0semcq00Z-A"
   },
   "source": [
    "También hay funciones, que son básicamente \"apodos\" para una serie de operaciones, como una receta de cocina: "
   ]
  },
  {
   "cell_type": "code",
   "execution_count": 11,
   "metadata": {
    "colab": {
     "base_uri": "https://localhost:8080/"
    },
    "executionInfo": {
     "elapsed": 10,
     "status": "ok",
     "timestamp": 1660639769915,
     "user": {
      "displayName": "Francisco Jesús Martínez Murcia",
      "userId": "13684743367188921611"
     },
     "user_tz": -120
    },
    "id": "Gd9i4mvM0Z-A",
    "outputId": "be12a421-3dd4-4108-ab94-7bd61f10b465"
   },
   "outputs": [
    {
     "name": "stdout",
     "output_type": "stream",
     "text": [
      "6\n"
     ]
    }
   ],
   "source": [
    "def suma(x,y):\n",
    "  return x + y \n",
    "\n",
    "var4 = suma(var1, var3)\n",
    "print(var4)"
   ]
  },
  {
   "cell_type": "markdown",
   "metadata": {
    "id": "48fHmbjS0Z-B"
   },
   "source": [
    "Podemos hacer que una función o varias operaciones se repitan en el tiempo usando bucles como `for`, y controlar cuando se realiza algo con expresiones como `if` y `else`: "
   ]
  },
  {
   "cell_type": "code",
   "execution_count": 14,
   "metadata": {
    "colab": {
     "base_uri": "https://localhost:8080/"
    },
    "executionInfo": {
     "elapsed": 304,
     "status": "ok",
     "timestamp": 1660639959772,
     "user": {
      "displayName": "Francisco Jesús Martínez Murcia",
      "userId": "13684743367188921611"
     },
     "user_tz": -120
    },
    "id": "9-Pwhblq0Z-B",
    "outputId": "dc507c09-8087-4be1-c5c3-4e742326984c"
   },
   "outputs": [
    {
     "name": "stdout",
     "output_type": "stream",
     "text": [
      "22\n"
     ]
    }
   ],
   "source": [
    "def multiplica(x,y):\n",
    "  return x*y \n",
    "\n",
    "acum = 1\n",
    "\n",
    "for i in range(3): \n",
    "  acum = suma(acum, 1)\n",
    "  acum = multiplica(acum, 2) \n",
    "\n",
    "print(acum)\n"
   ]
  },
  {
   "cell_type": "code",
   "execution_count": null,
   "metadata": {
    "id": "Y6ZiL16s0Z-B"
   },
   "outputs": [],
   "source": [
    "acum = 1\n",
    "\n",
    "for i in range(10):\n",
    "  if i%2==0:\n",
    "    cum"
   ]
  },
  {
   "cell_type": "markdown",
   "metadata": {
    "id": "vMjvXj7Z0Z-C"
   },
   "source": [
    "Y por último, a nivel básico, tenemos librerías, que contienen funciones. Como `numpy`, la librería estándar para trabajar con matrices. O `pytorch`, la que vamos a usar en este curso para realizar redes neuronales: "
   ]
  },
  {
   "cell_type": "code",
   "execution_count": null,
   "metadata": {
    "id": "byJqBjKb0Z-C"
   },
   "outputs": [],
   "source": []
  },
  {
   "cell_type": "markdown",
   "metadata": {
    "id": "s0BoORHwcXtc"
   },
   "source": [
    "# Programando con Pytorch\n",
    "Pytorch es una librería (o lo que se conoce como un *framework*) que reúne una serie de utilidades para trabajar con cálculo tensorial. Un Tensor es la versión N-dimensional de una matriz, que puede tener un número arbitrario de dimensiones. \n",
    "\n",
    "El manejo eficiente de los tensores, y su posibilidad de utilizarlos en procesadores paralelos como las tarjetas gráficas (GPUs) es lo que ha catapultado la revolución del *deep learning* desde el año 2013. \n",
    "\n",
    "Hay muchas librerías para trabajar con tensores, entre ellas la más conocida: `Tensorflow`. Sin embargo, pytorch está ganando mucha fuerza en los últimos años, ya que está soportado por Facebook, y es usado activamente en grandes empresas como Uber, Salesforce o Tesla. \n",
    "\n",
    "Los más familiares con el lenguaje Python para cálculos técnicos y científicos seguramente conozcan `numpy`. Pytorch está organizado de forma muy similar, pero para igualar el nivel, y comenzar desde cero, vamos a dar nuestros primeros pasos. "
   ]
  },
  {
   "cell_type": "markdown",
   "metadata": {
    "id": "ziD3kJhEdmh9"
   },
   "source": [
    "## Primeros pasos con Pytorch\n",
    "Vamos a crear nuestro primer tensor, a partir de datos directamente, de arrays o de otros tensores. En primer lugar cargamos las librerías necesarias:\n"
   ]
  },
  {
   "cell_type": "code",
   "execution_count": null,
   "metadata": {
    "id": "5xIJbEoLcEKj"
   },
   "outputs": [],
   "source": []
  },
  {
   "cell_type": "markdown",
   "metadata": {
    "id": "N45AE0YWdyBU"
   },
   "source": [
    "Como véis hemos cargado también numpy, aunque no nos hará falta en este tutorial. Vamos a crear nuestro primer tensor **a partir de datos**:"
   ]
  },
  {
   "cell_type": "code",
   "execution_count": null,
   "metadata": {
    "id": "GHZXq0XPdxa0"
   },
   "outputs": [],
   "source": []
  },
  {
   "cell_type": "markdown",
   "metadata": {
    "id": "xRxYt_V9d9Qn"
   },
   "source": [
    "Podemos comprobar qué hay dentro de la variable `x_data` así: "
   ]
  },
  {
   "cell_type": "code",
   "execution_count": null,
   "metadata": {
    "id": "7enoJ7mMd84I"
   },
   "outputs": [],
   "source": []
  },
  {
   "cell_type": "markdown",
   "metadata": {
    "id": "997cfCiweCgK"
   },
   "source": [
    "Vemos que es una estructura similar a una matriz pero de tipo tensor. Vamos a crear ahora otros datos a partir de un array de numpy:"
   ]
  },
  {
   "cell_type": "code",
   "execution_count": null,
   "metadata": {
    "id": "hrxXtwWYd6BN"
   },
   "outputs": [],
   "source": []
  },
  {
   "cell_type": "markdown",
   "metadata": {
    "id": "3HF6MdJseO4Z"
   },
   "source": [
    "Esto es muy útil en los casos en que dispongamos de datos como arrays de numpy (caso muy frecuente en la vida real). Por último, vamos a crear tensores a partir de otros tensores de pytoch:"
   ]
  },
  {
   "cell_type": "code",
   "execution_count": null,
   "metadata": {
    "id": "0lT_NKL9eN7X"
   },
   "outputs": [],
   "source": []
  },
  {
   "cell_type": "markdown",
   "metadata": {
    "id": "X05Cnh_9eke8"
   },
   "source": [
    "Hemos utilizado print para mostrar los datos de los tensores. \n",
    "\n",
    "Hemos visto que podemos generar un tensor de unos con un tamaño igual al de un tensor dado. Pero también podemos generar valores aleatorios o constantes a partir de las dimensiones del tensor, lo que conocemos como `shape`: "
   ]
  },
  {
   "cell_type": "code",
   "execution_count": null,
   "metadata": {
    "id": "2xzeWLH-ejwA"
   },
   "outputs": [],
   "source": []
  },
  {
   "cell_type": "markdown",
   "metadata": {
    "id": "695lyvW-fG_Z"
   },
   "source": [
    "## Atributos de los tensores\n",
    "Los tensores son en realidad un \"objeto\". No sólo contienen los datos en sí (ceros, unos, etc), sino uqe también tienen unas propiedades y unos métodos que es posible visualizar, y que nos van a ayudar mucho en la vida. Generemos un tensor aleatorio y vamos a ver varias de estas propiedades y funciones: "
   ]
  },
  {
   "cell_type": "code",
   "execution_count": null,
   "metadata": {
    "id": "NnmPr9vhfFKH"
   },
   "outputs": [],
   "source": []
  },
  {
   "cell_type": "markdown",
   "metadata": {
    "id": "xMX1IDTAfmvQ"
   },
   "source": [
    "## Operaciones con tensores\n",
    "Existen más de 100 operaciones soportadas por la librería de pytorch. Estos incluyen desde el *slicing* o acceso a partes del tensor, hasta multiplicaciones y funciones más avanzadas. Vamos a comenzar viendo cómo acceder a los distintos elementos de un tensor, el famoso *slicing*:"
   ]
  },
  {
   "cell_type": "code",
   "execution_count": null,
   "metadata": {
    "id": "XYFeV-JmgtUk"
   },
   "outputs": [],
   "source": []
  },
  {
   "cell_type": "markdown",
   "metadata": {
    "id": "XyZsCGLugyVE"
   },
   "source": [
    "Al ser un tensor sólo relleno de unos, daría igual, pero hemos accedido a la posición del tensor en la fila 0, la columna 2. Recuerda que en casi todos los lenguajes de programación, la primera posición de un vector, array o lo que sea es 0. \n",
    "\n",
    "Podemos modificar partes de un tensor utilizando *slicing*:"
   ]
  },
  {
   "cell_type": "code",
   "execution_count": null,
   "metadata": {
    "id": "oE-WPSSFfihR"
   },
   "outputs": [],
   "source": []
  },
  {
   "cell_type": "markdown",
   "metadata": {
    "id": "oGA6yCB-gcXp"
   },
   "source": [
    "Podemos recuperar un subtensor mediante estas técnicas. Por ejemplo, para obtener las filas de la 0 a la 2, y las columnas de la 1 en adelante, usamos: "
   ]
  },
  {
   "cell_type": "code",
   "execution_count": null,
   "metadata": {
    "id": "N1cig-6Cge7_"
   },
   "outputs": [],
   "source": []
  },
  {
   "cell_type": "markdown",
   "metadata": {
    "id": "6oK2L2AjhDf7"
   },
   "source": [
    "Podemos también concatenar diferentes tensores en una dimension dada. Existen varias funciones para esto, como `torch.cat` o `torch.stack`. Aquí nos centraremos en una, pero la documentación de pytorch es bastante completa en este sentido. "
   ]
  },
  {
   "cell_type": "code",
   "execution_count": null,
   "metadata": {
    "id": "X3cPknQahOfz"
   },
   "outputs": [],
   "source": []
  },
  {
   "cell_type": "markdown",
   "metadata": {
    "id": "4OD2E2NSiLVV"
   },
   "source": [
    "Podemos sumar varios tensores: "
   ]
  },
  {
   "cell_type": "code",
   "execution_count": null,
   "metadata": {
    "id": "-ag8FKxEiOvy"
   },
   "outputs": [],
   "source": []
  },
  {
   "cell_type": "markdown",
   "metadata": {
    "id": "oMC9FMzAhSoH"
   },
   "source": [
    "Vamos a multiplicar tensores entre sí, elemento a elemento (no confundir con producto de matrices):"
   ]
  },
  {
   "cell_type": "code",
   "execution_count": null,
   "metadata": {
    "id": "2OlOfAzUhYJp"
   },
   "outputs": [],
   "source": []
  },
  {
   "cell_type": "markdown",
   "metadata": {
    "id": "0Un7Nx-shhbw"
   },
   "source": [
    "Para multiplicar tensores en forma matricial, podemos hacer uso de las dos sintaxis vistas anteriormente: "
   ]
  },
  {
   "cell_type": "code",
   "execution_count": null,
   "metadata": {
    "id": "Bw0vCopKhhs5"
   },
   "outputs": [],
   "source": []
  },
  {
   "cell_type": "markdown",
   "metadata": {
    "id": "Imcatu_KgAx-"
   },
   "source": [
    " ## Jugando con los procesadores\n",
    " Todas estas pueden ser realizadas en la CPU (procesador del ordenador) o la GPU (procesador gráfico, más rápido para operaciones paralelas). Por defecto, los tensores están creados en la CPU, pero podemos moverlos entre ambas. Como estamos en Colab, si por defecto no tenemos GPU podemos hacerlo en \"Entorno de Ejecución> Cambiar tipo de entorno de ejecución\", y seleccionar un acelerador por GPU. "
   ]
  },
  {
   "cell_type": "code",
   "execution_count": null,
   "metadata": {
    "id": "a4SuRXmGgEte"
   },
   "outputs": [],
   "source": []
  },
  {
   "cell_type": "code",
   "execution_count": null,
   "metadata": {
    "id": "OwFdHX7aijrQ"
   },
   "outputs": [],
   "source": []
  },
  {
   "cell_type": "markdown",
   "metadata": {
    "id": "5zyUqt9niuAu"
   },
   "source": [
    "# `Torch.autograd`, la magia está servida\n",
    "Como hemos comentado anteriormente, las redes neuornales están definidas fundamentalmente por tres pasos: \n",
    "1. **Propagación hacia adelante** (*forward pass*): se introduce unos datos en la red y se realizan los cálculos necesarios hasta dar una salida. \n",
    "2. **Cálculo de la pérdida** (*loss*). Se compara la salida de la red con la salida esperada para cuantificar lo \"acertado\" de nuestra red. \n",
    "3. **Propagación hacia atrás** (*backward pass* o *backpropagation*). Se calcula el gradiente de la pérdida con respecto a cada entrada y salida de las neuronas, y se ajustan los parámetros\n",
    "\n",
    "Para el último paso, es importante ser capaces de calcular el gradiente, el diferencial de una entrada con respecto a una salida, para poder actualizar los pesos de la red neuronal. Pero, ¿cómo calculamos el gradiente automáticamente? \n",
    "\n",
    "Ahí está el truco del almendruco. `torch.autograd` lo hace por nosotros.\n",
    "\n",
    "¿Cómo? Allá vamos! "
   ]
  },
  {
   "cell_type": "code",
   "execution_count": null,
   "metadata": {
    "id": "noIs8J8Fimv7"
   },
   "outputs": [],
   "source": []
  },
  {
   "cell_type": "markdown",
   "metadata": {
    "id": "BgFnMX12j_-D"
   },
   "source": [
    "Como véis es muy similar a lo que hemos realizado anteriormente, pero en este caso añadimos la coletilla `requires_grad`. Ésto significa que vamos a almacenar el gradiente, una \"memoria\" de la operación a realizar. Veamos qué ocurre si queremos calcular $Q = 3a^3 - b^2$. "
   ]
  },
  {
   "cell_type": "code",
   "execution_count": null,
   "metadata": {
    "id": "QhcbWDL3j--o"
   },
   "outputs": [],
   "source": []
  },
  {
   "cell_type": "markdown",
   "metadata": {
    "id": "4ObgrfkTkVtY"
   },
   "source": [
    "Vemos que en este caso se ha almacenado una `grad_fn`, la función con respecto a la cual calcular el gradiente. Siendo `SubBackward`, podemos asumir que es 0. \n",
    "\n",
    "Internamente, el programa está haciendo lo siguiente: \n",
    "\n",
    "![image.png](data:image/png;base64,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)"
   ]
  },
  {
   "cell_type": "markdown",
   "metadata": {
    "id": "Q7Ys9_VZkqt2"
   },
   "source": [
    "Así, de esta manera podríamos calcular los gradientes de Q con respecto a los tensores `a` y `b`: \n",
    "$$\\frac{\\partial Q}{\\partial a} = 9a^2$$\n",
    "$$\\frac{\\partial Q}{\\partial b} = -2b$$\n",
    "\n",
    "Como hemos calculado Q a partir de tensores con la opción `requires_grad`, damos la orden de calcular todos los gradientes parciales usando la propiedad `.backward()`. Ya que Q es una matriz, necesitamos calcular el tope, podríamos usar `.sum()` o definir un gradiente: "
   ]
  },
  {
   "cell_type": "code",
   "execution_count": null,
   "metadata": {
    "id": "qiKyEQRukNk2"
   },
   "outputs": [],
   "source": []
  },
  {
   "cell_type": "markdown",
   "metadata": {
    "id": "Amy-XIjOlVv9"
   },
   "source": [
    "Con este dato, ya hemos almacenado los gradientes, y comprobamos si están bien calculados comparándolos con los calculados a mano: "
   ]
  },
  {
   "cell_type": "code",
   "execution_count": null,
   "metadata": {
    "id": "0pFuwTmDlU63"
   },
   "outputs": [],
   "source": []
  },
  {
   "cell_type": "markdown",
   "metadata": {
    "id": "tN-Ybk7wllpA"
   },
   "source": [
    "## Autograd para aprendizaje automático\n",
    "Así pues, este procedimiento es el que se realiza para crear modelos de aprendizaje automático. Por ejemplo, vamos a realizar una regresión simple. La regresión, si recordamos, trata de relacionar dos variables $x$ e $y$ (que habitualmente se conocen como variable independiente y variable dependiente) de la forma: \n",
    "\n",
    "$$ y = w*x + b$$\n",
    "\n",
    "Vamos a intentar estimar $w$ y $b$ a partir de los datos siguientes: "
   ]
  },
  {
   "cell_type": "code",
   "execution_count": null,
   "metadata": {
    "id": "vwcHID1GmnCF"
   },
   "outputs": [],
   "source": [
    "# Datos para regresión lineal \n",
    "x = torch.Tensor([3.3,4.4,5.5,6.71,6.93,4.168,9.779,6.182,7.59,2.167,\n",
    "                         7.042,10.791,5.313,7.997,5.654,9.27,3.1]).view(17, 1)\n",
    "y = torch.Tensor([1.7,2.76,2.09,3.19,1.694,1.573,3.366,2.596,2.53,1.221,\n",
    "                         2.827,3.465,1.65,2.904,2.42,2.94,1.3]).view(17, 1)"
   ]
  },
  {
   "cell_type": "markdown",
   "metadata": {
    "id": "j6Y52PRrnN5V"
   },
   "source": [
    "Una buena práctica para saber qué estamos haciendo es mostrarlo. Para ello utilizamos la librería de mostrar gráficos `matplotlib`: "
   ]
  },
  {
   "cell_type": "code",
   "execution_count": null,
   "metadata": {
    "id": "-p59b70HnNII"
   },
   "outputs": [],
   "source": [
    "import matplotlib.pyplot as plt \n",
    "\n",
    "# Muestra los datos\n",
    "fig, ax = plt.subplots(figsize=(10,4))\n",
    "ax.scatter(x, y, color = \"orange\")\n",
    "ax.set_xlabel('Variable Independiente')\n",
    "ax.set_ylabel('Variable Dependiente')"
   ]
  },
  {
   "cell_type": "markdown",
   "metadata": {
    "id": "e_UxdgOwnf_e"
   },
   "source": [
    "Observamos que hay una clara tendencia lineal entre la variable independiente y la variable dependiente. Para entrenar el modelo, tenemos que partir de unos parámetros $w$ y $b$ aleatorios:"
   ]
  },
  {
   "cell_type": "code",
   "execution_count": null,
   "metadata": {
    "id": "gi49yX0LnS5L"
   },
   "outputs": [],
   "source": []
  },
  {
   "cell_type": "markdown",
   "metadata": {
    "id": "tSHbVR4Sn3Y2"
   },
   "source": [
    "Y a continuación definiremos nuestro modelo: "
   ]
  },
  {
   "cell_type": "code",
   "execution_count": null,
   "metadata": {
    "id": "7M518POEn06g"
   },
   "outputs": [],
   "source": []
  },
  {
   "cell_type": "markdown",
   "metadata": {
    "id": "Us7-RXiYn9ng"
   },
   "source": [
    "La matriz que obtenemos como salida del modelo serán las predicciones: "
   ]
  },
  {
   "cell_type": "code",
   "execution_count": null,
   "metadata": {
    "id": "wlP0mmlHn8GL"
   },
   "outputs": [],
   "source": []
  },
  {
   "cell_type": "markdown",
   "metadata": {
    "id": "0_bl0gfgoQkl"
   },
   "source": [
    "Esto, en una red neuronal, sería el **forward pass**. En este modelo, sin entrenar, nos daría la siguiente recta:"
   ]
  },
  {
   "cell_type": "code",
   "execution_count": null,
   "metadata": {
    "id": "HdN63t2dros_"
   },
   "outputs": [],
   "source": []
  },
  {
   "cell_type": "markdown",
   "metadata": {
    "id": "lXZ13h9rrpAn"
   },
   "source": [
    "Para comparar las predicciones con las originales definimos una función de loss. Para un ajuste por mínimos cuadrados utilizamos el error cuadrático medio: \n",
    "$$ \\frac{1}{N}\\sum{(preds-y)^2}$$\n",
    "\n",
    "Afortunadamente, esta es una de las funciones más utilizadas en aprendizaje, así que está en pytorch almacenada como `torch.nn.MSELoss()`"
   ]
  },
  {
   "cell_type": "code",
   "execution_count": null,
   "metadata": {
    "id": "LD5dP8VWoA8S"
   },
   "outputs": [],
   "source": []
  },
  {
   "cell_type": "markdown",
   "metadata": {
    "id": "XjjqonyHpOhB"
   },
   "source": [
    "Como hemos visto antes, ahora hay que computar el gradiente con respecto a cada peso, y actualizar los mismos para que aprenda: "
   ]
  },
  {
   "cell_type": "code",
   "execution_count": null,
   "metadata": {
    "id": "9h_bP0HJoyop"
   },
   "outputs": [],
   "source": []
  },
  {
   "cell_type": "markdown",
   "metadata": {
    "id": "K-yRpaZ8posO"
   },
   "source": [
    "Para ajustar los pesos, utilizaríamos una constante (*learning rate*) que multiplicamos por el gradiente, y tendríamos una nueva estimación: "
   ]
  },
  {
   "cell_type": "code",
   "execution_count": null,
   "metadata": {
    "id": "dfQXbsdIpcjF"
   },
   "outputs": [],
   "source": []
  },
  {
   "cell_type": "code",
   "execution_count": null,
   "metadata": {
    "id": "8w1abbTDp4Nc"
   },
   "outputs": [],
   "source": []
  },
  {
   "cell_type": "markdown",
   "metadata": {
    "id": "OlWkBsW9q3SB"
   },
   "source": [
    "Y ya hemos visto cómo se han actualizado los pesos. Esto daría lugar a la siguiente recta:"
   ]
  },
  {
   "cell_type": "code",
   "execution_count": null,
   "metadata": {
    "id": "SyFuj_pyr_M6"
   },
   "outputs": [],
   "source": [
    "preds = model(x)\n",
    "fig, ax = plt.subplots(figsize=(10,4))\n",
    "ax.scatter(x, y, color = \"orange\")\n",
    "ax.set_xlabel('Variable Independiente')\n",
    "ax.set_ylabel('Variable Dependiente')\n",
    "ax.plot(x, preds.detach(), 'b-', lw=3) # cuidado con .detach(), matplotlib no puede mostrar cosas que almacenen gradiente. "
   ]
  },
  {
   "cell_type": "markdown",
   "metadata": {
    "id": "TU2Iy4eSr_jX"
   },
   "source": [
    "## Regresión como una red neuronal\n",
    "El algoritmo que hemos definido se llama descenso de gradiente, y está implementado también en pytorch como `pytorch.optim.SGD`. Asimismo, los parámetros del modelo se pueden ver como una capa lineal de 2 neuronas, como ya hemos visto. De este modo podemos construir un modelo de red neuronal para regresión muy sencillo: "
   ]
  },
  {
   "cell_type": "code",
   "execution_count": null,
   "metadata": {
    "id": "YImw5hBgqEcB"
   },
   "outputs": [],
   "source": []
  },
  {
   "cell_type": "markdown",
   "metadata": {
    "id": "YXs3iFe5rOXj"
   },
   "source": [
    "Ahora podemos definir la red, el optimizador y el loss:"
   ]
  },
  {
   "cell_type": "code",
   "execution_count": null,
   "metadata": {
    "id": "ihaZDwf6rKPc"
   },
   "outputs": [],
   "source": []
  },
  {
   "cell_type": "markdown",
   "metadata": {
    "id": "0WSazBvrrWkf"
   },
   "source": [
    "Y podremos realizar el bucle de entrenamiento: "
   ]
  },
  {
   "cell_type": "code",
   "execution_count": null,
   "metadata": {
    "id": "wBSYeF5rsbLu"
   },
   "outputs": [],
   "source": []
  },
  {
   "cell_type": "markdown",
   "metadata": {
    "id": "bfsGsP3Es_BH"
   },
   "source": [
    "Y visualizamos el resultado de nuestra regresión"
   ]
  },
  {
   "cell_type": "code",
   "execution_count": null,
   "metadata": {
    "id": "7NP07D1fsePD"
   },
   "outputs": [],
   "source": [
    "preds = model(x)\n",
    "fig, ax = plt.subplots(figsize=(10,4))\n",
    "ax.scatter(x, y, color = \"orange\")\n",
    "ax.set_xlabel('Variable Independiente')\n",
    "ax.set_ylabel('Variable Dependiente')\n",
    "ax.plot(x, preds.detach(), 'b-', lw=3) # cuidado con .detach(), matplotlib no puede mostrar cosas que almacenen gradiente. "
   ]
  },
  {
   "cell_type": "markdown",
   "metadata": {
    "id": "GAoZUO92tCio"
   },
   "source": [
    "Y los valores de nuestras variables: "
   ]
  },
  {
   "cell_type": "code",
   "execution_count": null,
   "metadata": {
    "id": "MlMskkFCtBiJ"
   },
   "outputs": [],
   "source": [
    "print(f'w es: {model.linear.weight}')\n",
    "print(f'b es: {model.linear.bias}')"
   ]
  }
 ],
 "metadata": {
  "colab": {
   "collapsed_sections": [],
   "name": "Introducción a python y pytorch.ipynb",
   "provenance": []
  },
  "kernelspec": {
   "display_name": "Python 3 (ipykernel)",
   "language": "python",
   "name": "python3"
  },
  "language_info": {
   "codemirror_mode": {
    "name": "ipython",
    "version": 3
   },
   "file_extension": ".py",
   "mimetype": "text/x-python",
   "name": "python",
   "nbconvert_exporter": "python",
   "pygments_lexer": "ipython3",
   "version": "3.9.13"
  },
  "vscode": {
   "interpreter": {
    "hash": "0ff29eee154f7f0b2124c4e5d35c3cca620f3ac88a1e78bbac791ebf52310940"
   }
  }
 },
 "nbformat": 4,
 "nbformat_minor": 1
}
